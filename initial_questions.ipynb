{
 "cells": [
  {
   "attachments": {},
   "cell_type": "markdown",
   "metadata": {},
   "source": [
    "# Initial questions\n",
    "\n",
    "We want to build the best cricket team we can using data from a cricket dataset. \n",
    "\n",
    "What are the pre-reqs going into this?:\n",
    "1. The team should be able to score at least 180 runs on an average\n",
    "2. They should be able to defend 150 runs on an average\n",
    "- (This leaves us with a margin of 30 runs)"
   ]
  },
  {
   "attachments": {},
   "cell_type": "markdown",
   "metadata": {},
   "source": [
    "Parameters to measure the usefulness of players. These are going to have to be conditional as different positions have different measures of success. As well as the critera for success .To start off Openers. We are gonna go with 2 for this position\n",
    "\n",
    "Opener conditions --- Criteria:\n",
    "- Batting Average -- Average runs scored in an innings > 30\n",
    "- Strike Rate -- Number of runs scored per 100 balls > 140\n",
    "- Innings Batted -- Total Innings batted > 3\n",
    "- Boundary % -- % of runs scored in boundaries > 50\n",
    "- Batting Position -- Order in which the batter played < 4\n",
    "\n",
    "Next would be the anchors. An anchor bats for a long time and sustain a good defense. We are gonna need 3 players for this position\n",
    "\n",
    "Anchor / Middle Order conditions :\n",
    "- Batting Average -- Average runs scored in an innings > 40\n",
    "- Strike Rate -- Number of runs scored per 100 balls > 125\n",
    "- Innings Batted -- Total Innings batted > 3\n",
    "- Average Balls Faced -- Average balls faced by the batter in an innings > 20\n",
    "- Batting Position -- Order in which the batter played > 2\n",
    "\n",
    "They are expected to have a strong finish and accelerate to help the team achieve a high score. We will have one in our team. 1 person for this position\n",
    "\n",
    "Finisher / Lower Order Anchor:\n",
    "- Batting Average -- Average runs scored in an innings > 25\n",
    "- Strike Rate -- Number of runs scored per 100 balls > 130\n",
    "- Innings Batted -- Total Innings batted > 3\n",
    "- Average Balls Faced -- Average balls faced by the batter in an innings > 12\n",
    "- Batting Position -- Order in which the batter played > 4\n",
    "- Innings Bowled -- Total innings bowled by the bowler > 1\n",
    "\n",
    "An all-rounder is a cricketer who regularly performs well at both batting and bowling. 2 for this  postition.\n",
    "\n",
    "All-rounders / Lower Order:\n",
    "- Batting Average -- Average runs scored in an innings > 15\n",
    "- Strike Rate -- Number of runs scored per 100 balls > 140\n",
    "- Innings Batted -- Total Innings batted > 2\n",
    "- Batting Position -- Order in which the batter played > 4\n",
    "- Innings Bowled -- Total innings bowled by the bowler > 2\n",
    "- Bowling Economy -- Average runs allowed per over < 7\n",
    "- Bowling Strike Rate -- Average number of balls required to take a wicket < 20\n",
    "\n",
    "Specialist Fast Bowlers:\n",
    "- Innings Bowled -- Total innings bowled by the bowler\n",
    "- Bowling Economy -- Average runs allowed per over\n",
    "- Bowling Strike Rate -- Average number of ball required to take a wicket\n",
    "- Bowling Style -- Bowling style of the player\n",
    "- Bowling Average -- Number of runs allowed per wicket\n",
    "- Dot Ball % -- % of dot balls bowled"
   ]
  },
  {
   "attachments": {},
   "cell_type": "markdown",
   "metadata": {},
   "source": []
  },
  {
   "cell_type": "code",
   "execution_count": null,
   "metadata": {},
   "outputs": [],
   "source": []
  },
  {
   "cell_type": "code",
   "execution_count": null,
   "metadata": {},
   "outputs": [],
   "source": []
  }
 ],
 "metadata": {
  "language_info": {
   "name": "python"
  },
  "orig_nbformat": 4
 },
 "nbformat": 4,
 "nbformat_minor": 2
}
